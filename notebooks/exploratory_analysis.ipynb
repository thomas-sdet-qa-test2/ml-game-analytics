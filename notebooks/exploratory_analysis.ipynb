import pandas as pd\nprint(pd.read_csv('data/player_stats.csv').head())
